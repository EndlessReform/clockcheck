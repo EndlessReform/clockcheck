{
 "cells": [
  {
   "cell_type": "code",
   "execution_count": 2,
   "id": "165264f0",
   "metadata": {},
   "outputs": [
    {
     "name": "stdout",
     "output_type": "stream",
     "text": [
      "1440\n"
     ]
    },
    {
     "name": "stderr",
     "output_type": "stream",
     "text": [
      "/home/ritsuko/projects/ai/audio/clockcheck/.venv/lib/python3.12/site-packages/tqdm/auto.py:21: TqdmWarning: IProgress not found. Please update jupyter and ipywidgets. See https://ipywidgets.readthedocs.io/en/stable/user_install.html\n",
      "  from .autonotebook import tqdm as notebook_tqdm\n"
     ]
    },
    {
     "data": {
      "text/plain": [
       "{'time_string': '12:00 PM', 'hour': 12, 'minute': 0, 'period': 'PM'}"
      ]
     },
     "execution_count": 2,
     "metadata": {},
     "output_type": "execute_result"
    }
   ],
   "source": [
    "from datasets import Dataset\n",
    "\n",
    "times = []\n",
    "for hour in range(24):\n",
    "    for minute in range(60):\n",
    "        period = \"AM\" if hour < 12 else \"PM\"\n",
    "        normalized_hour = 12 if hour == 0 else hour\n",
    "        if hour > 12:\n",
    "            normalized_hour -= 12\n",
    "        times.append({\n",
    "            \"time_string\": f\"{normalized_hour}:{minute:02d} {period}\",\n",
    "            \"hour\": hour,\n",
    "            \"minute\": minute,\n",
    "            \"period\": period\n",
    "        })\n",
    "\n",
    "dataset = Dataset.from_list(times)\n",
    "print(len(dataset))\n",
    "dataset[720]"
   ]
  },
  {
   "cell_type": "code",
   "execution_count": 3,
   "id": "76601ce5",
   "metadata": {},
   "outputs": [
    {
     "name": "stderr",
     "output_type": "stream",
     "text": [
      "Map: 100%|██████████| 1440/1440 [00:00<00:00, 20846.08 examples/s]\n",
      "Saving the dataset (1/1 shards): 100%|██████████| 1440/1440 [00:00<00:00, 762889.70 examples/s]\n"
     ]
    }
   ],
   "source": [
    "# The laziest possible way to generate a dataset of times\n",
    "\n",
    "ds_simple = dataset.map(lambda x: {\"text\": f\"The time is {x['time_string']}.\"})\n",
    "ds_simple.save_to_disk(\"../datasets/time-simple\")"
   ]
  }
 ],
 "metadata": {
  "kernelspec": {
   "display_name": ".venv",
   "language": "python",
   "name": "python3"
  },
  "language_info": {
   "codemirror_mode": {
    "name": "ipython",
    "version": 3
   },
   "file_extension": ".py",
   "mimetype": "text/x-python",
   "name": "python",
   "nbconvert_exporter": "python",
   "pygments_lexer": "ipython3",
   "version": "3.12.8"
  }
 },
 "nbformat": 4,
 "nbformat_minor": 5
}
